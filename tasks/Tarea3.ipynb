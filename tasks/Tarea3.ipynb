{
 "cells": [
  {
   "cell_type": "markdown",
   "metadata": {},
   "source": [
    "###### 1- Dos sucesos A y B disjuntos, ¿son necesariamente independientes?"
   ]
  },
  {
   "cell_type": "markdown",
   "metadata": {},
   "source": [
    "No, ya que a pesar de no ocurrir de forma simultanea, si es posible que uno influya en el resultado del otro"
   ]
  },
  {
   "cell_type": "markdown",
   "metadata": {},
   "source": [
    "##### 2 - Dos sucesos A y B independientes, ¿son necesariamente disjuntos?"
   ]
  },
  {
   "cell_type": "markdown",
   "metadata": {},
   "source": [
    "No, ya que pese que el resultado de uno puede influir en el otro, pueden ocurrir de forma simultanea"
   ]
  },
  {
   "cell_type": "markdown",
   "metadata": {},
   "source": [
    "##### 3- ∅ y un suceso cualquiera A, ¿son necesariamente independientes?"
   ]
  },
  {
   "cell_type": "code",
   "execution_count": null,
   "metadata": {},
   "outputs": [],
   "source": []
  },
  {
   "cell_type": "markdown",
   "metadata": {},
   "source": [
    "##### 4- Ω y un suceso cualquiera A, ¿son necesariamente independientes?"
   ]
  },
  {
   "cell_type": "markdown",
   "metadata": {},
   "source": [
    "##### 5 - ¿Qué condiciones se tienen que dar para que un suceso A sea independiente de si mismo?"
   ]
  },
  {
   "cell_type": "markdown",
   "metadata": {},
   "source": [
    "##### 6 - Una moneda no trucada se lanza al aire 2 veces Consideremos los siguientes sucesos:<br>\n",
    "\n",
    "• A: Sale una cara en la primera tirada.<br>\n",
    "\n",
    "• B: Sale una cara en la segunda tirada.<br>\n",
    "\n",
    "¿Son los sucesos A y B independientes?<br>"
   ]
  },
  {
   "cell_type": "markdown",
   "metadata": {},
   "source": [
    "###### 7- Una urna contiene 4 bolas numerades con los números 1, 2, 3 y 4, respectivamente. Se extraen dos bolas con reposición. Sea A el suceso que la primera bola extraida tenga un 1 marcado y sea B el suceso que la segunda bola extraida tenga un 1 marcado.\n",
    "\n",
    "• ¿Se puede decir que A y B son independientes?\n",
    "\n",
    "• ¿Y si el experimento fuera sin reposición?"
   ]
  },
  {
   "cell_type": "markdown",
   "metadata": {},
   "source": [
    "##### 8- Sea Ω un espacio muestral y A, B, C tres sucesos. Probad que\n",
    "\n",
    "- Si A y B son independientes, también lo son A y B^c\n",
    "\n",
    "- Si A,B,C son independientes, también lo son A,B y C^c\n",
    "\n",
    "- ¿Es cierto que si A,B,C son independientes, también lo son A,B^c y C^c? ¿Y A^c, B^c y C^c? En caso de que la respuesta sea negativa, da un contraejemplo donde la propiedad falle."
   ]
  },
  {
   "cell_type": "markdown",
   "metadata": {},
   "source": [
    "##### 9- Dos empresas A y B fabrican el mismo producto. La empresa A tiene un 2% de productos defectuosos mientras que la empresa B tiene un 1%.\n",
    "Un cliente recibe un pedido de una de las empresas (no sabe cuál) y comprueba que la primera pieza funciona. Si suponemos que el estado de las piezas de cada empresa es independiente, ¿cuál es la probabilidad de que la segunda pieza que pruebe sea buena?\n",
    "\n",
    "Comprobad que el estado de las dos piezas no es independiente, pero en cambio es condicionalmente independiente dada la empresa que las fabrica"
   ]
  },
  {
   "cell_type": "markdown",
   "metadata": {},
   "source": [
    "##### 10- Encuentra un ejemplo de tres sucesos A,B,C tales que A y B sean independientes, pero en cambio no sean condicionalmente independientes dado C."
   ]
  },
  {
   "cell_type": "code",
   "execution_count": null,
   "metadata": {},
   "outputs": [],
   "source": []
  }
 ],
 "metadata": {
  "kernelspec": {
   "display_name": "Python 3",
   "language": "python",
   "name": "python3"
  },
  "language_info": {
   "codemirror_mode": {
    "name": "ipython",
    "version": 3
   },
   "file_extension": ".py",
   "mimetype": "text/x-python",
   "name": "python",
   "nbconvert_exporter": "python",
   "pygments_lexer": "ipython3",
   "version": "3.7.6"
  }
 },
 "nbformat": 4,
 "nbformat_minor": 4
}
