{
 "cells": [
  {
   "cell_type": "code",
   "execution_count": 110,
   "metadata": {},
   "outputs": [],
   "source": [
    "from scipy.special import comb, perm, binom\n",
    "from itertools import combinations, combinations_with_replacement, permutations, product\n",
    "import math\n",
    "import numpy as np\n",
    "from collections import defaultdict"
   ]
  },
  {
   "cell_type": "markdown",
   "metadata": {},
   "source": [
    "#### 1 - Hay 10 estudiantes inscritos en una clase de Estadística, de entre los cuales 3 tienen 19 años, 4 tienen 20 años, 1 tiene 21 años, 1 tiene 24 años y 1 tiene 26 años. De esta clase se seleccionan dos estudiantes sin reposición. Sea X la edad media de los dos estudiantes seleccionados. Hallar la función de probabilidad para X"
   ]
  },
  {
   "cell_type": "code",
   "execution_count": 162,
   "metadata": {},
   "outputs": [
    {
     "data": {
      "text/plain": [
       "[(19, 19),\n",
       " (19, 19),\n",
       " (19, 20),\n",
       " (19, 20),\n",
       " (19, 20),\n",
       " (19, 20),\n",
       " (19, 21),\n",
       " (19, 24),\n",
       " (19, 26),\n",
       " (19, 19),\n",
       " (19, 20),\n",
       " (19, 20),\n",
       " (19, 20),\n",
       " (19, 20),\n",
       " (19, 21),\n",
       " (19, 24),\n",
       " (19, 26),\n",
       " (19, 20),\n",
       " (19, 20),\n",
       " (19, 20),\n",
       " (19, 20),\n",
       " (19, 21),\n",
       " (19, 24),\n",
       " (19, 26),\n",
       " (20, 20),\n",
       " (20, 20),\n",
       " (20, 20),\n",
       " (20, 21),\n",
       " (20, 24),\n",
       " (20, 26),\n",
       " (20, 20),\n",
       " (20, 20),\n",
       " (20, 21),\n",
       " (20, 24),\n",
       " (20, 26),\n",
       " (20, 20),\n",
       " (20, 21),\n",
       " (20, 24),\n",
       " (20, 26),\n",
       " (20, 21),\n",
       " (20, 24),\n",
       " (20, 26),\n",
       " (21, 24),\n",
       " (21, 26),\n",
       " (24, 26)]"
      ]
     },
     "execution_count": 162,
     "metadata": {},
     "output_type": "execute_result"
    }
   ],
   "source": [
    "omega = list(combinations([19]*3+[20]*4 +[21,24,26], 2))\n",
    "omega"
   ]
  },
  {
   "cell_type": "code",
   "execution_count": 164,
   "metadata": {},
   "outputs": [],
   "source": [
    "X = list(map(lambda x: (x[0]+x[1])/2, omega))\n",
    "Dx = set(X)"
   ]
  },
  {
   "cell_type": "code",
   "execution_count": 165,
   "metadata": {},
   "outputs": [
    {
     "data": {
      "text/plain": [
       "defaultdict(int,\n",
       "            {19.0: 3,\n",
       "             19.5: 12,\n",
       "             20.0: 9,\n",
       "             21.5: 3,\n",
       "             22.5: 4,\n",
       "             20.5: 4,\n",
       "             22.0: 4,\n",
       "             23.0: 4,\n",
       "             23.5: 1,\n",
       "             25.0: 1})"
      ]
     },
     "execution_count": 165,
     "metadata": {},
     "output_type": "execute_result"
    }
   ],
   "source": [
    "n_repetitions = defaultdict(int)\n",
    "for item in X:\n",
    "    n_repetitions[item] += 1\n",
    "N = sum(n_repetitions.values())\n",
    "N\n",
    "n_repetitions"
   ]
  },
  {
   "cell_type": "markdown",
   "metadata": {},
   "source": [
    "$F(x)\\left\\{\n",
    "\\begin{matrix}\n",
    "\\frac{1}{45}&&x=23.5,25\\\\\n",
    "\\frac{3}{45}&&x=19,21.5\\\\\n",
    "\\frac{4}{45}&&x=20.5,22,22.5,23\\\\\n",
    "\\frac{9}{45}&&x=20\\\\\n",
    "\\frac{12}{45}&&x=19.5\\\\\n",
    "0&&en\\ los\\ otros\\ casos\n",
    "\\end{matrix}\n",
    "\\right.$"
   ]
  },
  {
   "cell_type": "markdown",
   "metadata": {},
   "source": [
    "#### 2. Verificar que:\n",
    "\n",
    "$FW(t)\\left\\{\n",
    "\\begin{matrix}\n",
    "0 &&si\\ t < 3\\\\\n",
    "\\frac{1}{3}&& si\\ 3 \\leq t  < 4\\\\\n",
    "\\frac{1}{2}&& si\\ 4 \\leq t  < 5\\\\\n",
    "\\frac{2}{3}&& si\\ 5 \\leq t  < 6\\\\\n",
    "1&& si\\ t  \\geq 6\\\\\n",
    "\\end{matrix}\n",
    "\\right.$\n",
    "<br>\n",
    "##### es una función de distribución y especificar la función de probabilidad para W. Hallar también P(3 < W ≤ 5)."
   ]
  },
  {
   "cell_type": "markdown",
   "metadata": {},
   "source": [
    "Se trata de una función de distribución ya que se cumplen las siguientes propiedades:\n",
    "- $0\\leq F_{X}(x)\\leq 1$\n",
    "- La función es no decreciente.\n",
    "- La función es continua por la derecha.\n",
    "- Se cumple que $\\lim_{x\\to\\infty} F_{X}(x)=1$ y $\\lim_{x\\to-\\infty} F_{X}(x)=0$"
   ]
  },
  {
   "cell_type": "code",
   "execution_count": null,
   "metadata": {},
   "outputs": [],
   "source": []
  }
 ],
 "metadata": {
  "kernelspec": {
   "display_name": "Python 3",
   "language": "python",
   "name": "python3"
  },
  "language_info": {
   "codemirror_mode": {
    "name": "ipython",
    "version": 3
   },
   "file_extension": ".py",
   "mimetype": "text/x-python",
   "name": "python",
   "nbconvert_exporter": "python",
   "pygments_lexer": "ipython3",
   "version": "3.7.6"
  }
 },
 "nbformat": 4,
 "nbformat_minor": 4
}
