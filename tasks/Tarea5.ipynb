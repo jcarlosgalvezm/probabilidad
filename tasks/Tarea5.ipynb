{
 "cells": [
  {
   "cell_type": "code",
   "execution_count": 223,
   "metadata": {},
   "outputs": [],
   "source": [
    "from scipy.special import comb, perm, binom\n",
    "from itertools import combinations, combinations_with_replacement, permutations, product\n",
    "import math\n",
    "import numpy as np\n",
    "from collections import defaultdict"
   ]
  },
  {
   "cell_type": "markdown",
   "metadata": {},
   "source": [
    "#### 1 - Hay 10 estudiantes inscritos en una clase de Estadística, de entre los cuales 3 tienen 19 años, 4 tienen 20 años, 1 tiene 21 años, 1 tiene 24 años y 1 tiene 26 años. De esta clase se seleccionan dos estudiantes sin reposición. Sea X la edad media de los dos estudiantes seleccionados. Hallar la función de probabilidad para X"
   ]
  },
  {
   "cell_type": "code",
   "execution_count": 162,
   "metadata": {},
   "outputs": [
    {
     "data": {
      "text/plain": [
       "[(19, 19),\n",
       " (19, 19),\n",
       " (19, 20),\n",
       " (19, 20),\n",
       " (19, 20),\n",
       " (19, 20),\n",
       " (19, 21),\n",
       " (19, 24),\n",
       " (19, 26),\n",
       " (19, 19),\n",
       " (19, 20),\n",
       " (19, 20),\n",
       " (19, 20),\n",
       " (19, 20),\n",
       " (19, 21),\n",
       " (19, 24),\n",
       " (19, 26),\n",
       " (19, 20),\n",
       " (19, 20),\n",
       " (19, 20),\n",
       " (19, 20),\n",
       " (19, 21),\n",
       " (19, 24),\n",
       " (19, 26),\n",
       " (20, 20),\n",
       " (20, 20),\n",
       " (20, 20),\n",
       " (20, 21),\n",
       " (20, 24),\n",
       " (20, 26),\n",
       " (20, 20),\n",
       " (20, 20),\n",
       " (20, 21),\n",
       " (20, 24),\n",
       " (20, 26),\n",
       " (20, 20),\n",
       " (20, 21),\n",
       " (20, 24),\n",
       " (20, 26),\n",
       " (20, 21),\n",
       " (20, 24),\n",
       " (20, 26),\n",
       " (21, 24),\n",
       " (21, 26),\n",
       " (24, 26)]"
      ]
     },
     "execution_count": 162,
     "metadata": {},
     "output_type": "execute_result"
    }
   ],
   "source": [
    "omega = list(combinations([19]*3+[20]*4 +[21,24,26], 2))\n",
    "omega"
   ]
  },
  {
   "cell_type": "code",
   "execution_count": 164,
   "metadata": {},
   "outputs": [],
   "source": [
    "X = list(map(lambda x: (x[0]+x[1])/2, omega))\n",
    "Dx = set(X)\n",
    "\n",
    "n_repetitions = defaultdict(int)\n",
    "for item in X:\n",
    "    n_repetitions[item] += 1\n",
    "N = sum(n_repetitions.values())\n",
    "N\n",
    "n_repetitions"
   ]
  },
  {
   "cell_type": "markdown",
   "metadata": {},
   "source": [
    "$f(x)\\left\\{\n",
    "\\begin{matrix}\n",
    "\\frac{1}{45}&&x=23.5,25\\\\\n",
    "\\frac{3}{45}&&x=19,21.5\\\\\n",
    "\\frac{4}{45}&&x=20.5,22,22.5,23\\\\\n",
    "\\frac{9}{45}&&x=20\\\\\n",
    "\\frac{12}{45}&&x=19.5\\\\\n",
    "0&&en\\ los\\ otros\\ casos\n",
    "\\end{matrix}\n",
    "\\right.$"
   ]
  },
  {
   "cell_type": "markdown",
   "metadata": {},
   "source": [
    "#### 2. Verificar que:\n",
    "\n",
    "$F_W(t)\\left\\{\n",
    "\\begin{matrix}\n",
    "0 &&si\\ t < 3\\\\\n",
    "\\frac{1}{3}&& si\\ 3 \\leq t  < 4\\\\\n",
    "\\frac{1}{2}&& si\\ 4 \\leq t  < 5\\\\\n",
    "\\frac{2}{3}&& si\\ 5 \\leq t  < 6\\\\\n",
    "1&& si\\ t  \\geq 6\\\\\n",
    "\\end{matrix}\n",
    "\\right.$\n",
    "<br>\n",
    "##### es una función de distribución y especificar la función de probabilidad para W. Hallar también P(3 < W ≤ 5)."
   ]
  },
  {
   "cell_type": "markdown",
   "metadata": {},
   "source": [
    "Se trata de una función de distribución ya que se cumplen las siguientes propiedades:\n",
    "- $0\\leq F_{X}(x)\\leq 1$\n",
    "- La función es no decreciente.\n",
    "- La función es continua por la derecha.\n",
    "- Se cumple que $\\lim_{t\\to\\infty} F_{W}(t)=1$ y $\\lim_{t\\to-\\infty} F_{W}(t)=0$\n",
    "\n",
    "$f_W(t)\\left\\{\n",
    "\\begin{matrix}\n",
    "\\frac{1}{3}&& si\\ t=3\\\\\n",
    "\\frac{1}{2}-\\frac{1}{3}=\\frac{1}{6}&& si\\ t=4 \\\\\n",
    "\\frac{2}{3}-\\frac{1}{2}=\\frac{1}{6}&& si\\ t=5 \\\\\n",
    "1-\\frac{2}{3}=\\frac{1}{3}&& si\\ t=6 \\\\\n",
    "\\end{matrix}\n",
    "\\right.$\n",
    "\n",
    "$P(3 < W \\leq 5) = P(4) + P(5) = \\frac{1}{6}+\\frac{1}{6} = \\frac{1}{3}$"
   ]
  },
  {
   "cell_type": "markdown",
   "metadata": {},
   "source": [
    "#### 3 - La variable aleatoria Z tiene por función de probabilidad:\n",
    "$f_Z(x)\\left\\{\n",
    "\\begin{matrix}\n",
    "\\frac{1}{3}&& si\\ x=0,1,2\\\\\n",
    "0&&en\\ otros\\ casos\n",
    "\\end{matrix}\n",
    "\\right.$\n",
    "\n",
    "#### ¿Cuál es la función de distribución para Z?"
   ]
  },
  {
   "cell_type": "markdown",
   "metadata": {},
   "source": [
    "$F_Z(x)\\left\\{\n",
    "\\begin{matrix}\n",
    "\\frac{1}{3}&& si\\ 0 \\leq t  < 1\\\\\n",
    "\\frac{2}{3}&& si\\ 1 \\leq t  < 2\\\\\n",
    "1&& si\\ 2 \\leq t\\\\\n",
    "\\end{matrix}\n",
    "\\right.$"
   ]
  },
  {
   "cell_type": "markdown",
   "metadata": {},
   "source": [
    "#### 4 - Sea $X_n$ una variable aleatoria dependiendo de un valor natural $n$ cuya función de probabilidad es:\n",
    "$f(x)\\left\\{\n",
    "\\begin{matrix}\n",
    "k\\cdot i&& si\\ i = 1, 2 . . . , n,\\\\\n",
    "0&&en\\ otros\\ casos\n",
    "\\end{matrix}\n",
    "\\right.$"
   ]
  },
  {
   "cell_type": "markdown",
   "metadata": {},
   "source": [
    "#### - Hallar el valor de k y la función de distribución de X.\n",
    "$F(x) = \\sum_{i=1}^{n} f(x) =\\sum_{i=1}^{n} k\\cdot i = k\\cdot \\sum_{i=1}^{n} i = k\\cdot \\frac{n(n+1)}{2} = k\\cdot \\frac{n^2+n}{2} = 1$ \n",
    "\n",
    "Despejando de $F(x)$ hallamos que el valor de $k$ es:\n",
    "\n",
    "$k =\\frac{1}{\\frac{n^2+n}{2}} = \\frac{2}{n^2+n}$\n",
    "\n",
    "#### - Calcular la probabilidad de que X tome un valor par.\n",
    "\n",
    "A = {\"número par\"}\n",
    "\n",
    "$f(x) = \\frac{2i}{n^2+n}$ \n",
    "\n",
    "Si $n$ es par:\n",
    "\n",
    "$P(A) = \\sum_{i=1}^\\frac{n}{2} 2 \\cdot f(x)= 2 \\cdot \\sum_{i=1}^\\frac{n}{2} f(x) = 2 \\cdot \\sum_{i=1}^\\frac{n}{2} \\frac{2i}{n^2+n} = \\frac{4}{n^2+n} \\cdot \\sum_{i=1}^\\frac{n}{2} i = \\frac{4}{n^2+n} \\cdot \\frac{\\frac{n}{2}\\cdot (\\frac{n}{2}+1)}{2} = \\frac{4}{n^2+n} \\cdot  \\frac{n}{2} \\cdot \\frac{\\frac{n}{2}+1}{2} =\\frac{4}{n^2+n} \\cdot  \\frac{n}{2} \\cdot \\begin{pmatrix}\\frac{\\frac{n}{2}}{2} + \\frac{1}{2}\\end{pmatrix} = $<br>$ = \\frac{4}{n^2+n} \\cdot  \\frac{n}{2} \\cdot \\begin{pmatrix}\\frac{2n}{8} + \\frac{4}{8}\\end{pmatrix} = \\frac{4}{n^2+n} \\cdot  \\frac{n}{2} \\cdot \\frac{2n+4}{8} = \\frac{4}{n^2+n} \\cdot \\frac{n(2n+4)}{16} = \\frac{4n(2n+4)}{16(n^2+n)} = \\frac{8n^2 + 16n}{16n^2+16n}$\n",
    "\n",
    "Si $n$ es impar:\n",
    "\n",
    "$P(A) = \\sum_{i=1}^\\frac{n-1}{2} 2 \\cdot f(x)= 2 \\cdot \\sum_{i=1}^\\frac{n-1}{2} f(x) = 2 \\cdot \\sum_{i=1}^\\frac{n-1}{2} \\frac{2i}{n^2+n} = \\frac{4}{n^2+n} \\cdot \\sum_{i=1}^\\frac{n-1}{2} i = \\frac{4}{n^2+n} \\cdot \\frac{\\frac{n-1}{2}\\cdot (\\frac{n-1}{2}+1)}{2} = \\frac{4}{n^2+n} \\cdot  \\frac{n-1}{2} \\cdot \\frac{\\frac{n-1}{2}+1}{2}= $<br>$ = \\frac{4}{n^2+n} \\cdot  \\frac{n-1}{2} \\cdot \\begin{pmatrix}\\frac{\\frac{n-1}{2}}{2} + \\frac{1}{2}\\end{pmatrix} = \\frac{4}{n^2+n} \\cdot  \\frac{n-1}{2} \\cdot \\begin{pmatrix}\\frac{2(n-1)}{8}+\\frac{4}{8}\\end{pmatrix} = \\frac{4}{n^2+n} \\cdot  \\frac{n-1}{2} \\cdot \\begin{pmatrix}\\frac{2(n-1)+4}{8}\\end{pmatrix} =\\frac{4}{n^2+n} \\cdot  \\frac{n-1}{2} \\cdot \\begin{pmatrix}\\frac{2n-2+4}{8}\\end{pmatrix} = $<br>$ =\\frac{4}{n^2+n} \\cdot  \\frac{n-1}{2} \\cdot \\frac{2n-2+4}{8} = \\frac{4n-4}{2n^2+2n} \\cdot \\frac{2n+2}{8} = \\frac{(4n-4)\\cdot(2n+2)}{16n^2+16n} = \\frac{4(n-1)\\cdot2(n+1)}{16n^2+16n} = \\frac{8(n-1)(n+1)}{16n^2+16n} = \\frac{8(n-1)(n+1)}{16n^2+16n} = \\frac{8(n^2-1)}{16n^2+16n} = \\frac{8n^2-8}{16n^2+16n}$"
   ]
  },
  {
   "cell_type": "markdown",
   "metadata": {},
   "source": [
    "#### 5 - Un examen tipo test consta de cinco preguntas con tres posibles opciones cada una. Un alumno contesta al azar las cinco cuestiones. Suponiendo que cada respuesta acertada vale dos puntos, hallar la distribución de número de puntos obtenidos por el alumno."
   ]
  },
  {
   "cell_type": "markdown",
   "metadata": {},
   "source": [
    "$X =$ \"puntuación del exámen\"<br>\n",
    "$Z =$ \"responder una pregunta\"<br>\n",
    "$k = 3$ -> respuestas $\\left\\{ \\begin{matrix}\\checkmark&&2\\\\-x&&0\\end{matrix}\\right.$<br>\n",
    "$n = 5$ -> preguntas $\\left\\{ \\begin{matrix}i&&contestar\\ bien\\\\j&&contestar\\ mal\\end{matrix}\\right\\} X = 2i-0j$ <br> \n",
    "$Z(\\Omega) = \\{0,2\\}$<br>\n",
    "\n",
    "$P(Z=p) = \\left\\{ \\begin{matrix}\\frac{1}{3}&&si, p=2 \\\\ \\frac{2}{3}&&si, p=0\\end{matrix} \\right.$\n",
    "\n",
    "$X(\\Omega) = \\{0,2,4,6,8,10\\}$\n",
    "\n",
    "$P(X = x) = PR_5^{i,j}\\cdot \\begin{pmatrix}\\frac{1}{3}\\end{pmatrix}^i\\cdot\\begin{pmatrix}\\frac{2}{3}\\end{pmatrix}^j=\\frac{5!}{i!\\cdot j!} \\cdot \\begin{pmatrix}\\frac{1}{3}\\end{pmatrix}^i\\cdot\\begin{pmatrix}\\frac{2}{3}\\end{pmatrix}^j$\n",
    "\n",
    "$P(X) \\left\\{\\begin{matrix}0.131687&&x=0\\\\0.329218&& x=2\\\\0.329218&& x=4\\\\0.164610&& x=6\\\\0.041152&&x=8\\\\0.004115&&x=10\\end{matrix}\\right.$\n",
    "\n",
    "$F(x) = \\left\\{ \\begin{matrix}0.131687&&0\\leq x < 2\\\\0.460905&&2\\leq x < 4\\\\0.790123&&4\\leq x < 6\\\\0.954733&& 6 \\leq x <8\\\\0.995885&&8 \\leq x \\leq 10\\\\1&& x \\geq 10 \\end{matrix} \\right.$"
   ]
  },
  {
   "cell_type": "markdown",
   "metadata": {},
   "source": [
    "#### 6 - Continuamos con el ejercicio anterior pero ahora suponemos que restamos una cierta cantidad por respuesta incorrecta. Suponiendo que el examen tiene n preguntas, cada pregunta tiene k posibles respuestas, y que cada pregunta acertada vale 1 punto, ¿qué cantidad hay que restar a cada pregunta para que la esperanza de la nota de una pregunta contestada al azar sea 0?"
   ]
  },
  {
   "cell_type": "markdown",
   "metadata": {},
   "source": [
    "$Z =$ \"responder una pregunta\"<br>\n",
    "$n $ -> preguntas $\\left\\{ \\begin{matrix}i&&contestar\\ bien\\\\j&&contestar\\ mal\\end{matrix}\\right\\} X = 2i-xj$ <br> \n",
    "$k $ -> respuestas $\\left\\{ \\begin{matrix}\\checkmark&&2\\\\-x&&?\\end{matrix}\\right.$<br>\n",
    "$Z(\\Omega) = \\{-x,2\\}$<br>\n",
    "\n",
    "$P(Z=p) = \\left\\{ \\begin{matrix}\\frac{1}{k}&&si, p=2 \\\\ \\frac{k-1}{k}&&si, p=-x\\end{matrix} \\right.$\n",
    "\n",
    "$EZ = (-x)\\cdot P(Z=x) + 2 \\cdot P(Z=2) = (-x)\\cdot\\frac{k-1}{k} + 2\\frac{1}{k} = 0$\n",
    "\n",
    "$x \\cdot \\frac{k-1}{k} = \\frac{2}{k} \\rightarrow x \\cdot (k-1) = 2 \\rightarrow x = \\frac{2}{k-1}$\n",
    "\n",
    "Hay que restar $\\frac{2}{k-1}$ por pregunta fallada para que la esperanza de la nota de una pregunta contestada al azar sea 0"
   ]
  },
  {
   "cell_type": "markdown",
   "metadata": {},
   "source": [
    "#### 7 - Repetir el ejercicio anterior pero ahora suponiendo que restamos a cada pregunta la cantidad obtenida en el caso en que éste se responga de forma errónea"
   ]
  },
  {
   "cell_type": "markdown",
   "metadata": {},
   "source": [
    "$X =$ \"puntuación del exámen\"<br>\n",
    "$Z =$ \"responder una pregunta\"<br>\n",
    "$k = 3 $ -> respuestas $\\left\\{ \\begin{matrix}\\checkmark&&2\\\\-x&&1\\end{matrix}\\right.$<br>\n",
    "$n=5 $ -> preguntas $\\left\\{ \\begin{matrix}i&&contestar\\ bien\\\\j&&contestar\\ mal\\end{matrix}\\right\\} X = 2i-1j$ <br> \n",
    "$Z(\\Omega) = \\{-1, 2\\}$<br>\n",
    "\n",
    "\n",
    "$P(Z=p) = \\left\\{ \\begin{matrix}\\frac{1}{3}&&si, p=2 \\\\ \\frac{2}{3}&&si, p=-1\\end{matrix} \\right.$\n",
    "\n",
    "$X(\\Omega) = \\{-5,-2,1,4,7,10\\}$\n",
    "\n",
    "$P(X) \\left\\{\\begin{matrix}0.131687&&x=-5\\\\0.329218&& x=-2\\\\0.329218&& x=1\\\\0.164610&& x=4\\\\0.041152&&x=7\\\\0.004115&&x=10\\end{matrix}\\right.$\n",
    "\n",
    "$F(x) = \\left\\{ \\begin{matrix}0.131687&& -5\\leq x < -2\\\\0.460905&&-2\\leq x < 1\\\\0.790123&&1\\leq x < 4\\\\0.954733&& 4 \\leq x <7\\\\0.995885&&7 \\leq x \\leq 10\\\\1&& x \\geq 10 \\end{matrix} \\right.$"
   ]
  }
 ],
 "metadata": {
  "kernelspec": {
   "display_name": "Python 3",
   "language": "python",
   "name": "python3"
  },
  "language_info": {
   "codemirror_mode": {
    "name": "ipython",
    "version": 3
   },
   "file_extension": ".py",
   "mimetype": "text/x-python",
   "name": "python",
   "nbconvert_exporter": "python",
   "pygments_lexer": "ipython3",
   "version": "3.7.6"
  }
 },
 "nbformat": 4,
 "nbformat_minor": 4
}
