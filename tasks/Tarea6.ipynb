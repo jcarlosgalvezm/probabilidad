{
 "cells": [
  {
   "cell_type": "markdown",
   "metadata": {},
   "source": [
    "#### 1. Verificar que:\n",
    "$$F_X(t) = \\left\\{\\begin{matrix}\n",
    "0,&&si\\ t<-1\\\\\n",
    "\\frac{t+1}{2},&&si\\ -1\\leq t \\leq 1\\\\\n",
    "1,&&si\\ t>1\\\\\n",
    "\\end{matrix}\\right.$$\n",
    "#### es una función de distribución y hallar la función de densidad para $X$. Calcular también $P(-\\frac{1}{2}\\leq X\\leq\\frac{1}{2})$"
   ]
  },
  {
   "cell_type": "markdown",
   "metadata": {},
   "source": [
    "- $F_X(t)$ es continua:"
   ]
  },
  {
   "cell_type": "code",
   "execution_count": 121,
   "metadata": {},
   "outputs": [
    {
     "data": {
      "image/png": "[encoded data removed]",
      "text/plain": [
       "<Figure size 432x288 with 1 Axes>"
      ]
     },
     "metadata": {
      "needs_background": "light"
     },
     "output_type": "display_data"
    }
   ],
   "source": [
    "import numpy as np\n",
    "import matplotlib.pyplot as plt\n",
    "\n",
    "x = np.arange(-1, 1.5, 0.5)\n",
    "y = np.array([(t+1)/2 for t in x])\n",
    "plt.plot(x, y, '-ob', color='blue', label ='Fx(t)')\n",
    "plt.show()"
   ]
  },
  {
   "cell_type": "code",
   "execution_count": 140,
   "metadata": {},
   "outputs": [
    {
     "data": {
      "text/plain": [
       "True"
      ]
     },
     "execution_count": 140,
     "metadata": {},
     "output_type": "execute_result"
    }
   ],
   "source": [
    "from sympy import symbols, limit\n",
    "t = symbols('t')\n",
    "func = (t+1)/2\n",
    "all([\n",
    "    limit(func, t, 0.5, '-') == limit(func, t, 0.5, '+'),\n",
    "    limit(func, t, 0, '-') == limit(func, t, 0, '+'),\n",
    "    limit(func, t, -0.5, '-') == limit(func, t, -0.5, '+'),\n",
    "    limit(func, t, -1) == 0,\n",
    "    limit(func, t, 1) == 1,\n",
    "])"
   ]
  },
  {
   "cell_type": "markdown",
   "metadata": {},
   "source": [
    "- $F_X(t)$ es creciente ya que la derivada siempre es positiva o $0$ en los trozos donde está definida:\n",
    "\n",
    "$t<-1 \\rightarrow F_X^{'}(t) = 0$\n",
    "\n",
    "$-1\\leq t \\leq 1 \\rightarrow F_X^{'}(t) = \\frac{1}{2}$\n",
    "\n",
    "$t > 1 \\rightarrow F_X^{'}(t) = 0$"
   ]
  },
  {
   "cell_type": "markdown",
   "metadata": {},
   "source": [
    "Por lo tanto efectivamente se trata de una función de distribución.\n",
    "\n",
    "$f(x) = F^{'}_X(t) \\left\\{\\begin{matrix}\n",
    "0,&&si\\ t<-1\\\\\n",
    "\\frac{1}{2},&&si\\ -1\\leq t \\leq 1\\\\\n",
    "0,&&si\\ t>1\\\\\n",
    "\\end{matrix}\\right.$\n",
    "\n",
    "$P(-\\frac{1}{2}\\leq X\\leq\\frac{1}{2}) = F_X(\\frac{1}{2}) - F_X(-\\frac{1}{2}) = \\frac{3}{4} - \\frac{1}{4} = \\frac{2}{4} = \\frac{1}{2}$"
   ]
  },
  {
   "cell_type": "markdown",
   "metadata": {},
   "source": [
    "####  2. Sea $Y$ una variable continua con función de densidad:\n",
    "$$\n",
    "f_Y(y) = \\left\\{\\begin{matrix}2(1-y),&&si\\ 0<y<1\\\\0,&&en\\ los\\ otros\\ casos\\end{matrix}\\right.\n",
    "$$\n",
    "#### Hallar la función de distribución $F_Y(t)$"
   ]
  },
  {
   "cell_type": "markdown",
   "metadata": {},
   "source": [
    "$F_Y(t) = \\int_0^1f_Y(y)dy = \\int_0^1 2(1-y) dy = y \\left(2 - y\\right)$"
   ]
  },
  {
   "cell_type": "code",
   "execution_count": 564,
   "metadata": {},
   "outputs": [
    {
     "data": {
      "text/latex": [
       "$\\displaystyle y \\left(2 - y\\right)$"
      ],
      "text/plain": [
       "y*(2 - y)"
      ]
     },
     "execution_count": 564,
     "metadata": {},
     "output_type": "execute_result"
    }
   ],
   "source": [
    "from sympy import symbols, integrate\n",
    "y = symbols('y')\n",
    "integrate(2*(1-y)).simplify()"
   ]
  },
  {
   "cell_type": "markdown",
   "metadata": {},
   "source": [
    "$F_Y(y) = \\left\\{\\begin{matrix}0,&&y < 0\\\\y(2-y),&&0\\leq y\\leq 1\\\\1,&&y>1\\end{matrix}\\right.$"
   ]
  },
  {
   "cell_type": "markdown",
   "metadata": {},
   "source": [
    "#### 3. Verificar que:\n",
    "$$\n",
    "F_Y(t) = \\left\\{\\begin{matrix}\n",
    "0,&&si\\ t<0\\\\\n",
    "\\sqrt{t},&&si\\ 0\\leq t \\leq1,\\\\\n",
    "1,&&si\\ t>1\n",
    "\\end{matrix}\\right.\n",
    "$$\n",
    "#### es una función de distribución y especificar la función de densidad para $Y$ . Usar este resultado para hallar $P(-\\frac{1}{2}<Y<\\frac{3}{4})$"
   ]
  },
  {
   "cell_type": "markdown",
   "metadata": {},
   "source": [
    "- $F_Y(t)$ es continua:"
   ]
  },
  {
   "cell_type": "code",
   "execution_count": 137,
   "metadata": {},
   "outputs": [
    {
     "data": {
      "image/png": "[encoded data removed]",
      "text/plain": [
       "<Figure size 432x288 with 1 Axes>"
      ]
     },
     "metadata": {
      "needs_background": "light"
     },
     "output_type": "display_data"
    }
   ],
   "source": [
    "import numpy as np\n",
    "import math\n",
    "import matplotlib.pyplot as plt\n",
    "\n",
    "x = np.arange(0, 1.5, step=0.5)\n",
    "y = np.array([math.sqrt(t) for t in x])\n",
    "plt.plot(x, y, '-ob', color='blue', label ='Fy(t)')\n",
    "plt.show()"
   ]
  },
  {
   "cell_type": "code",
   "execution_count": 151,
   "metadata": {},
   "outputs": [
    {
     "data": {
      "text/plain": [
       "True"
      ]
     },
     "execution_count": 151,
     "metadata": {},
     "output_type": "execute_result"
    }
   ],
   "source": [
    "from sympy import symbols, limit, sqrt\n",
    "t = symbols('t')\n",
    "func = sqrt(t)\n",
    "all([\n",
    "    limit(func, t, 0.5, '-') == limit(func, t, 0.5, '+'),\n",
    "    limit(func, t, 1, '-') == limit(func, t, 1, '+'),\n",
    "    limit(func, t, 0) == 0,\n",
    "    limit(func, t, 1) == 1\n",
    "])"
   ]
  },
  {
   "cell_type": "markdown",
   "metadata": {},
   "source": [
    "- $F_Y(t)$ es creciente ya que la derivada siempre es positiva o $0$ en los trozos donde está definida:"
   ]
  },
  {
   "cell_type": "code",
   "execution_count": 176,
   "metadata": {},
   "outputs": [
    {
     "data": {
      "text/plain": [
       "True"
      ]
     },
     "execution_count": 176,
     "metadata": {},
     "output_type": "execute_result"
    }
   ],
   "source": [
    "from sympy import diff\n",
    "all([\n",
    "0 <= diff(func.subs(t, 0)),\n",
    "0 <= diff(func.subs(t, 0.5)),\n",
    "0 <= diff(func.subs(t, 1)),\n",
    "0 <= diff(func).subs(t, 0.5),\n",
    "])"
   ]
  },
  {
   "cell_type": "markdown",
   "metadata": {},
   "source": [
    "Por lo tanto efectivamente se trata de una función de distribución.\n",
    "\n",
    "$f_Y(t) = F^{'}_Y(t) \\left\\{\\begin{matrix}\n",
    "0,&&si\\ t<0\\\\\n",
    "\\frac{1}{2 \\sqrt{t}},&&si\\ 0\\leq t \\leq1,\\\\\n",
    "0,&&si\\ t>1\n",
    "\\end{matrix}\\right.\n",
    "$\n",
    "\n",
    "\n",
    "$P(-\\frac{1}{2}<Y<\\frac{3}{4}) = F_Y(\\frac{3}{4}) - F_Y(-\\frac{1}{2}) = \\sqrt{\\frac{3}{4}} - 0 \\approx \n",
    " \\frac{433}{500}$"
   ]
  },
  {
   "cell_type": "markdown",
   "metadata": {},
   "source": [
    "#### 4. Sea X una variable aleatoria con función de densidad:\n",
    "$$\n",
    "f(x) = \\left\\{\\begin{matrix}1-|x|,&&si,\\ |x|\\leq 1\\\\0,&&en\\ caso\\ contrario\\end{matrix}\\right.\n",
    "$$\n",
    "\n",
    "- #### Representar gráficamente dicha función.\n",
    "- #### Hallar y dibujar la función de distribución.\n",
    "- #### Calcular las siguientes probabilidades: $P(X ≥ 0)\\ y\\ P(|X| <\\frac{1}{2})$\n"
   ]
  },
  {
   "cell_type": "code",
   "execution_count": 261,
   "metadata": {},
   "outputs": [
    {
     "data": {
      "image/png": "[encoded data removed]",
      "text/plain": [
       "<Figure size 432x288 with 1 Axes>"
      ]
     },
     "metadata": {
      "needs_background": "light"
     },
     "output_type": "display_data"
    }
   ],
   "source": [
    "from sympy import Abs, symbols\n",
    "import matplotlib.pyplot as plt\n",
    "t = symbols('t')\n",
    "func = 1 - Abs(t)\n",
    "x = np.arange(-1.5, 2, step=0.5)\n",
    "y = np.array([func.subs(t, val) if abs(val) <= 1 else 0 for val in x])\n",
    "plt.plot(x, y, '-ob', color='blue', label = 'f(x)')\n",
    "plt.show()"
   ]
  },
  {
   "cell_type": "markdown",
   "metadata": {},
   "source": [
    "$$\n",
    "f(x) = \\left\\{\\begin{matrix}1-|x|,&&si,\\ |x|\\leq 1\\\\0,&&en\\ caso\\ contrario\\end{matrix}\\right.\n",
    "$$\n",
    "\n",
    "$$|x| = \\left\\{\\begin{matrix}x&&x\\geq0\\\\-x&& x < 0\\end{matrix}\\right.$$\n",
    "\n",
    "$$f(x) = \\left\\{\\begin{matrix}1+x&&-1\\leq x<0\\\\1-x&&0\\leq x \\leq 1\\\\0,&&en\\ caso\\ contrario\\end{matrix}\\right.$$\n",
    "\n",
    "$$f(x) = \\left\\{\\begin{matrix}\n",
    "0&&x < -1\\\\\n",
    "1+x&&-1 \\leq x < 0\\\\\n",
    "1-x&& 0 \\leq x \\leq 1\\\\\n",
    "0&& x > 1\n",
    "\\end{matrix}\\right.$$\n",
    "\n",
    "$$\n",
    "\\int\\limits_{-1}^{0} \\left(x + 1\\right)\\, dx = \\frac{1}{2}\\\\\n",
    "\\int\\limits_{0}^{1} \\left(1 - x\\right)\\, dx = \\frac{1}{2}\n",
    "$$\n",
    "$$F(x) = \\left\\{\\begin{matrix}\n",
    "0&&x < -1\\\\\n",
    "\\frac{1}{2}&& -1 \\leq x \\leq 1\\\\\n",
    "1&& x > 1\n",
    "\\end{matrix}\\right.$$"
   ]
  },
  {
   "cell_type": "code",
   "execution_count": 523,
   "metadata": {},
   "outputs": [
    {
     "name": "stdout",
     "output_type": "stream",
     "text": [
      "[-1.5 -1.  -0.5  0.   0.5  1.   1.5]\n"
     ]
    },
    {
     "data": {
      "image/png": "[encoded data removed]",
      "text/plain": [
       "<Figure size 432x288 with 1 Axes>"
      ]
     },
     "metadata": {
      "needs_background": "light"
     },
     "output_type": "display_data"
    }
   ],
   "source": [
    "x = np.arange(-1.5, 2, step=0.5)\n",
    "print(x)\n",
    "y = np.array([0 if val < -1 else 1/2 if -1 <= val <= 1 else 1 for val in x])\n",
    "plt.plot(x, y, '-ob', color='blue', label = 'F(x)')\n",
    "plt.show()"
   ]
  },
  {
   "cell_type": "markdown",
   "metadata": {},
   "source": [
    "#### 5. Hallar la esperanza y la varianza de las variables de los ejercicios anteriores"
   ]
  },
  {
   "cell_type": "markdown",
   "metadata": {},
   "source": [
    "$$E(X)=\\int\\limits_{-\\infty}^{+\\infty} x\\cdot f_{X}(x)dx$$\n",
    "$$var(X) = EX^2 - (EX)^2$$ "
   ]
  },
  {
   "cell_type": "markdown",
   "metadata": {},
   "source": [
    "- Ejercicio 1:<br>"
   ]
  },
  {
   "cell_type": "markdown",
   "metadata": {},
   "source": [
    "$$ ET = \\int\\limits_{-1}^{1}t \\cdot \\frac{1}{2}dt = 0$$\n",
    "\n",
    "$$ET^2 = \\int\\limits_{-1}^{1}t^2 \\cdot \\frac{1}{2}dt = \\frac{1}{3} $$\n",
    "\n",
    "$$ var(T) = ET^2 - (ET)^2 = \\frac{1}{3}$$"
   ]
  },
  {
   "cell_type": "markdown",
   "metadata": {},
   "source": [
    "- Ejercicio 2:<br>"
   ]
  },
  {
   "cell_type": "markdown",
   "metadata": {},
   "source": [
    "$$EY = \\int\\limits_{0}^{1}y \\cdot 2(1-y)dt = \\frac{1}{3}$$ \n",
    "\n",
    "$$EY^2 = \\int\\limits_{0}^{1}y^2 \\cdot 2(1-y)dt = \\frac{1}{6}$$ \n",
    "\n",
    "$$var(Y) = \\frac{1}{6} - \\left(\\frac{1}{3}\\right)^2 = \\frac{1}{6} - \\frac{1}{9} = \\frac{1}{18}$$"
   ]
  },
  {
   "cell_type": "markdown",
   "metadata": {},
   "source": [
    "- Ejercicio 3:<br>"
   ]
  },
  {
   "cell_type": "markdown",
   "metadata": {},
   "source": [
    "$$ET = \\int\\limits_{0}^{1}t\\cdot\\frac{1}{2 \\sqrt{t}}dt = \\frac{1}{3}$$\n",
    "\n",
    "$$ET^2 = \\int\\limits_{0}^{1}t^2\\cdot\\frac{1}{2 \\sqrt{t}}dt = \\frac{1}{5}$$\n",
    "\n",
    "$$var(T) = ET^2 - (ET)^2 = \\frac{1}{5} - \\left(\\frac{1}{3}\\right)^2 = \\frac{1}{5} - \\frac{1}{9} = \\frac{4}{45}$$"
   ]
  },
  {
   "cell_type": "markdown",
   "metadata": {},
   "source": [
    "- Ejercicio 4:<br>"
   ]
  },
  {
   "cell_type": "markdown",
   "metadata": {},
   "source": [
    "$$ EX = \\int\\limits_{-1}^{0} x \\cdot (1+x) dt + \\int\\limits_{0}^{1} x \\cdot (1-x) dt = -\\frac{1}{6} + \\frac{1}{6} = 0$$\n",
    "\n",
    "$$ EX^2 = \\int\\limits_{-1}^{0} x^2 \\cdot (1+x) dt + \\int\\limits_{0}^{1} x^2 \\cdot (1-x) dt = \\frac{1}{12} + \\frac{1}{12} = \\frac{2}{24}$$\n",
    "\n",
    "$$var(X) = EX^2 - (EX)^2 = \\frac{2}{24}$$ "
   ]
  }
 ],
 "metadata": {
  "kernelspec": {
   "display_name": "Python 3",
   "language": "python",
   "name": "python3"
  },
  "language_info": {
   "codemirror_mode": {
    "name": "ipython",
    "version": 3
   },
   "file_extension": ".py",
   "mimetype": "text/x-python",
   "name": "python",
   "nbconvert_exporter": "python",
   "pygments_lexer": "ipython3",
   "version": "3.7.6"
  }
 },
 "nbformat": 4,
 "nbformat_minor": 4
}
