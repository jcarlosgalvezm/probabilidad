{
 "cells": [
  {
   "cell_type": "markdown",
   "metadata": {},
   "source": [
    "#### 1. A partir de\n",
    "$$F_X(t) = \\left\\{\\begin{matrix}0&&si,\\ t<-1\\\\\n",
    "\\frac{(t+1)}{2}&&si,\\ -1\\leq t \\leq 1\\\\\n",
    "1&&si, t>1\n",
    "\\end{matrix}\\right.$$\n",
    "\n",
    "#### hallar la función de distribución para $Y = 15 + 2X$ y la función de densidad para $Y$"
   ]
  },
  {
   "cell_type": "markdown",
   "metadata": {},
   "source": [
    "$F_Y(t) = F_X(g^{-1}(t))$"
   ]
  },
  {
   "cell_type": "markdown",
   "metadata": {},
   "source": [
    "$g(x) = 15+2x;\\ x= 15+2\\cdot g^{-1}(x) \\rightarrow g^{-1}(x) = \\frac{x -15}{2} $"
   ]
  },
  {
   "cell_type": "markdown",
   "metadata": {},
   "source": [
    "$\\frac{(\\frac{t-15}{2})+1}{2} = \\frac{(\\frac{t-15}{2})+\\frac{2}{2}}{2}$"
   ]
  },
  {
   "cell_type": "markdown",
   "metadata": {},
   "source": [
    "$\\frac{t}{2}-\\frac{15}{2}+\\frac{2}{2} = \\frac{t}{2}-\\frac{13}{2}= \\frac{\\frac{t-13}{2}}{\\frac{2}{1}} = \\frac{t-13}{4}$"
   ]
  },
  {
   "cell_type": "markdown",
   "metadata": {},
   "source": [
    "$F_Y(t) = F_X(\\frac{t-15}{2}) = \\left\\{\\begin{matrix}0&&si,\\ \\frac{t-15}{2}<-1\\\\\n",
    "\\frac{t-13}{4} &&si,\\ -1\\leq \\frac{t-15}{2} \\leq 1\\\\\n",
    "1&&si, \\frac{t-15}{2}>1\n",
    "\\end{matrix}\\right. = \\left\\{\\begin{matrix}0&&si,\\ t<13\\\\\n",
    "\\frac{t-13}{4} &&si,\\ 13\\leq t \\leq 17\\\\\n",
    "1&&si, t>17\n",
    "\\end{matrix}\\right.$"
   ]
  },
  {
   "cell_type": "markdown",
   "metadata": {},
   "source": [
    "$$f_Y(t) = F_Y'(t) = $$"
   ]
  },
  {
   "cell_type": "code",
   "execution_count": null,
   "metadata": {},
   "outputs": [],
   "source": []
  },
  {
   "cell_type": "markdown",
   "metadata": {},
   "source": [
    "#### 2. Si\n",
    "$$F_X(Y) = \\left\\{\\begin{matrix}\n",
    "0&&t<0\\\\\n",
    "t&&0\\leq t \\leq 1\\\\\n",
    "1&&t>1\n",
    "\\end{matrix}\\right.$$\n",
    "#### hallar la función de distribución y la función de densidad de la forma estándar de $X\\left(Z=\\frac{X-\\mu x}{\\sigma x}\\right)$, donde $\\mu X = E(X)$ y $\\sigma X = \\sqrt{Var(X)} $"
   ]
  },
  {
   "cell_type": "markdown",
   "metadata": {},
   "source": [
    "#### 3. Para formar un jardín circular, un jardinero corta una cuerda, la ata a una estaca y marca el perímetro. \n",
    "#### Suponer que la longitud de la cuerda tiene la misma verosimilitud de estar en el intervalo comprendido entre $r − 0.1$ y $r + 0.1$. ¿Cuál es la distribución de $X$, el área de la superficie del jardín? ¿Cuál es laprobabilidad de que el área de la superficie sea mayor que $\\pi r^2?$"
   ]
  },
  {
   "cell_type": "markdown",
   "metadata": {},
   "source": [
    "#### 4. Sea X una variable aleatoria continua con función de densidad $f_X(x)$. Consideramos la variable aleatoria $Y = e^X$. Hallar la función de densidad de la variable aleatoria $Y$ , $f_Y(y)$"
   ]
  },
  {
   "cell_type": "code",
   "execution_count": null,
   "metadata": {},
   "outputs": [],
   "source": []
  }
 ],
 "metadata": {
  "kernelspec": {
   "display_name": "Python 3",
   "language": "python",
   "name": "python3"
  },
  "language_info": {
   "codemirror_mode": {
    "name": "ipython",
    "version": 3
   },
   "file_extension": ".py",
   "mimetype": "text/x-python",
   "name": "python",
   "nbconvert_exporter": "python",
   "pygments_lexer": "ipython3",
   "version": "3.7.6"
  }
 },
 "nbformat": 4,
 "nbformat_minor": 4
}
